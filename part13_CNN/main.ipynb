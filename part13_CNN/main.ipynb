{
 "cells": [
  {
   "cell_type": "code",
   "execution_count": 1,
   "metadata": {},
   "outputs": [],
   "source": [
    "from keras.models import Sequential\n",
    "from keras.layers import Convolution2D\n",
    "from keras.layers import MaxPooling2D\n",
    "from keras.layers import Flatten\n",
    "from keras.layers import Dense"
   ]
  },
  {
   "cell_type": "code",
   "execution_count": 2,
   "metadata": {},
   "outputs": [],
   "source": [
    "# Initialising the CNN\n",
    "classifier = Sequential()"
   ]
  },
  {
   "cell_type": "code",
   "execution_count": 3,
   "metadata": {},
   "outputs": [],
   "source": [
    "# Step 1 - Convolution\n",
    "classifier.add(Convolution2D(32, 3, 3, input_shape = (64, 64, 3), activation = 'relu'))"
   ]
  },
  {
   "cell_type": "code",
   "execution_count": 4,
   "metadata": {},
   "outputs": [],
   "source": [
    "# Step 2 - Pooling\n",
    "classifier.add(MaxPooling2D(pool_size = (2, 2)))"
   ]
  },
  {
   "cell_type": "code",
   "execution_count": 5,
   "metadata": {},
   "outputs": [],
   "source": [
    "# Adding a second convolutional layer\n",
    "classifier.add(Convolution2D(32, 3, 3, activation = 'relu'))\n",
    "classifier.add(MaxPooling2D(pool_size = (2, 2)))"
   ]
  },
  {
   "cell_type": "code",
   "execution_count": 6,
   "metadata": {},
   "outputs": [],
   "source": [
    "# Step 3 - Flattening\n",
    "classifier.add(Flatten())"
   ]
  },
  {
   "cell_type": "code",
   "execution_count": 8,
   "metadata": {},
   "outputs": [],
   "source": [
    "# Step 4 - Full connection\n",
    "classifier.add(Dense(units = 128, activation = 'relu'))\n",
    "classifier.add(Dense(units = 1, activation = 'sigmoid'))"
   ]
  },
  {
   "cell_type": "code",
   "execution_count": 16,
   "metadata": {},
   "outputs": [],
   "source": [
    "# Compiling the CNN\n",
    "classifier.compile(optimizer = 'adam', loss = 'binary_crossentropy', metrics = ['accuracy'])"
   ]
  },
  {
   "cell_type": "code",
   "execution_count": 9,
   "metadata": {},
   "outputs": [],
   "source": [
    "# Part 2 - Fitting the CNN to the images\n",
    "\n",
    "from keras.preprocessing.image import ImageDataGenerator\n",
    "\n",
    "train_datagen = ImageDataGenerator(rescale = 1./255,\n",
    "                                   shear_range = 0.2,\n",
    "                                   zoom_range = 0.2,\n",
    "                                   horizontal_flip = True)"
   ]
  },
  {
   "cell_type": "code",
   "execution_count": 10,
   "metadata": {},
   "outputs": [],
   "source": [
    "test_datagen = ImageDataGenerator(rescale = 1./255)"
   ]
  },
  {
   "cell_type": "code",
   "execution_count": 11,
   "metadata": {},
   "outputs": [
    {
     "name": "stdout",
     "output_type": "stream",
     "text": [
      "Found 8000 images belonging to 2 classes.\n"
     ]
    }
   ],
   "source": [
    "training_set = train_datagen.flow_from_directory('training_set',\n",
    "                                                 target_size = (64, 64),\n",
    "                                                 batch_size = 32,\n",
    "                                                 class_mode = 'binary')"
   ]
  },
  {
   "cell_type": "code",
   "execution_count": 13,
   "metadata": {},
   "outputs": [
    {
     "name": "stdout",
     "output_type": "stream",
     "text": [
      "Found 2000 images belonging to 2 classes.\n"
     ]
    }
   ],
   "source": [
    "test_set = test_datagen.flow_from_directory('test_set',\n",
    "                                            target_size = (64, 64),\n",
    "                                            batch_size = 32,\n",
    "                                            class_mode = 'binary')"
   ]
  },
  {
   "cell_type": "code",
   "execution_count": 18,
   "metadata": {},
   "outputs": [
    {
     "name": "stderr",
     "output_type": "stream",
     "text": [
      "C:\\Users\\BOOM\\AppData\\Local\\Temp/ipykernel_16728/2103546010.py:1: UserWarning: `Model.fit_generator` is deprecated and will be removed in a future version. Please use `Model.fit`, which supports generators.\n",
      "  classifier.fit_generator(training_set,\n"
     ]
    },
    {
     "name": "stdout",
     "output_type": "stream",
     "text": [
      "Epoch 1/25\n",
      "250/250 [==============================] - 29s 117ms/step - loss: 0.6805 - accuracy: 0.5621 - val_loss: 0.6845 - val_accuracy: 0.5570\n",
      "Epoch 2/25\n",
      "250/250 [==============================] - 30s 119ms/step - loss: 0.6652 - accuracy: 0.5997 - val_loss: 0.6478 - val_accuracy: 0.6385\n",
      "Epoch 3/25\n",
      "250/250 [==============================] - 30s 119ms/step - loss: 0.6452 - accuracy: 0.6317 - val_loss: 0.6390 - val_accuracy: 0.6400\n",
      "Epoch 4/25\n",
      "250/250 [==============================] - 30s 120ms/step - loss: 0.6371 - accuracy: 0.6374 - val_loss: 0.6319 - val_accuracy: 0.6440\n",
      "Epoch 5/25\n",
      "250/250 [==============================] - 31s 124ms/step - loss: 0.6313 - accuracy: 0.6461 - val_loss: 0.6196 - val_accuracy: 0.6700\n",
      "Epoch 6/25\n",
      "250/250 [==============================] - 31s 125ms/step - loss: 0.6250 - accuracy: 0.6466 - val_loss: 0.6236 - val_accuracy: 0.6675\n",
      "Epoch 7/25\n",
      "250/250 [==============================] - 30s 120ms/step - loss: 0.6107 - accuracy: 0.6640 - val_loss: 0.6342 - val_accuracy: 0.6405\n",
      "Epoch 8/25\n",
      "250/250 [==============================] - 26s 102ms/step - loss: 0.6050 - accuracy: 0.6674 - val_loss: 0.6419 - val_accuracy: 0.6315\n",
      "Epoch 9/25\n",
      "250/250 [==============================] - 26s 104ms/step - loss: 0.5974 - accuracy: 0.6716 - val_loss: 0.6128 - val_accuracy: 0.6615\n",
      "Epoch 10/25\n",
      "250/250 [==============================] - 26s 102ms/step - loss: 0.5940 - accuracy: 0.6837 - val_loss: 0.6064 - val_accuracy: 0.6680\n",
      "Epoch 11/25\n",
      "250/250 [==============================] - 25s 101ms/step - loss: 0.5873 - accuracy: 0.6860 - val_loss: 0.6187 - val_accuracy: 0.6600\n",
      "Epoch 12/25\n",
      "250/250 [==============================] - 26s 102ms/step - loss: 0.5809 - accuracy: 0.6901 - val_loss: 0.6030 - val_accuracy: 0.6645\n",
      "Epoch 13/25\n",
      "250/250 [==============================] - 26s 102ms/step - loss: 0.5826 - accuracy: 0.6919 - val_loss: 0.5927 - val_accuracy: 0.6820\n",
      "Epoch 14/25\n",
      "250/250 [==============================] - 25s 102ms/step - loss: 0.5869 - accuracy: 0.6884 - val_loss: 0.5943 - val_accuracy: 0.6940\n",
      "Epoch 15/25\n",
      "250/250 [==============================] - 26s 102ms/step - loss: 0.5832 - accuracy: 0.6914 - val_loss: 0.6324 - val_accuracy: 0.6405\n",
      "Epoch 16/25\n",
      "250/250 [==============================] - 26s 103ms/step - loss: 0.5709 - accuracy: 0.7042 - val_loss: 0.5929 - val_accuracy: 0.6805\n",
      "Epoch 17/25\n",
      "250/250 [==============================] - 29s 117ms/step - loss: 0.5736 - accuracy: 0.6979 - val_loss: 0.5966 - val_accuracy: 0.6825\n",
      "Epoch 18/25\n",
      "250/250 [==============================] - 31s 124ms/step - loss: 0.5706 - accuracy: 0.7009 - val_loss: 0.6031 - val_accuracy: 0.6760\n",
      "Epoch 19/25\n",
      "250/250 [==============================] - 29s 117ms/step - loss: 0.5697 - accuracy: 0.7023 - val_loss: 0.5850 - val_accuracy: 0.6860\n",
      "Epoch 20/25\n",
      "250/250 [==============================] - 35s 138ms/step - loss: 0.5659 - accuracy: 0.7045 - val_loss: 0.5913 - val_accuracy: 0.6890\n",
      "Epoch 21/25\n",
      "250/250 [==============================] - 34s 136ms/step - loss: 0.5593 - accuracy: 0.7103 - val_loss: 0.6062 - val_accuracy: 0.6700\n",
      "Epoch 22/25\n",
      "250/250 [==============================] - 35s 139ms/step - loss: 0.5676 - accuracy: 0.7023 - val_loss: 0.5882 - val_accuracy: 0.6950\n",
      "Epoch 23/25\n",
      "250/250 [==============================] - 31s 124ms/step - loss: 0.5589 - accuracy: 0.7099 - val_loss: 0.6029 - val_accuracy: 0.6855\n",
      "Epoch 24/25\n",
      "250/250 [==============================] - 30s 120ms/step - loss: 0.5582 - accuracy: 0.7116 - val_loss: 0.6291 - val_accuracy: 0.6530\n",
      "Epoch 25/25\n",
      "250/250 [==============================] - 27s 106ms/step - loss: 0.5555 - accuracy: 0.7120 - val_loss: 0.5907 - val_accuracy: 0.6860\n"
     ]
    },
    {
     "data": {
      "text/plain": [
       "<keras.callbacks.History at 0x1e8f5f83190>"
      ]
     },
     "execution_count": 18,
     "metadata": {},
     "output_type": "execute_result"
    }
   ],
   "source": [
    "classifier.fit_generator(training_set,\n",
    "                         steps_per_epoch = 250,\n",
    "                         epochs = 25,\n",
    "                         validation_data = test_set,\n",
    "                         validation_steps = 62.5)"
   ]
  },
  {
   "cell_type": "code",
   "execution_count": null,
   "metadata": {},
   "outputs": [],
   "source": []
  }
 ],
 "metadata": {
  "kernelspec": {
   "display_name": "Python 3",
   "language": "python",
   "name": "python3"
  },
  "language_info": {
   "codemirror_mode": {
    "name": "ipython",
    "version": 3
   },
   "file_extension": ".py",
   "mimetype": "text/x-python",
   "name": "python",
   "nbconvert_exporter": "python",
   "pygments_lexer": "ipython3",
   "version": "3.8.5"
  },
  "orig_nbformat": 4
 },
 "nbformat": 4,
 "nbformat_minor": 2
}
